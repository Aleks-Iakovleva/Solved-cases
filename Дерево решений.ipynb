{
 "cells": [
  {
   "cell_type": "code",
   "execution_count": 1,
   "id": "72806478",
   "metadata": {},
   "outputs": [],
   "source": [
    "import pandas as pd\n",
    "import seaborn as sns\n",
    "import matplotlib.pyplot as plt\n",
    "from sklearn.model_selection import train_test_split\n",
    "from sklearn.metrics import confusion_matrix\n",
    "from sklearn.tree import DecisionTreeClassifier\n",
    "from sklearn.metrics import accuracy_score"
   ]
  },
  {
   "cell_type": "code",
   "execution_count": 2,
   "id": "868b0233",
   "metadata": {},
   "outputs": [
    {
     "data": {
      "text/html": [
       "<div>\n",
       "<style scoped>\n",
       "    .dataframe tbody tr th:only-of-type {\n",
       "        vertical-align: middle;\n",
       "    }\n",
       "\n",
       "    .dataframe tbody tr th {\n",
       "        vertical-align: top;\n",
       "    }\n",
       "\n",
       "    .dataframe thead th {\n",
       "        text-align: right;\n",
       "    }\n",
       "</style>\n",
       "<table border=\"1\" class=\"dataframe\">\n",
       "  <thead>\n",
       "    <tr style=\"text-align: right;\">\n",
       "      <th></th>\n",
       "      <th>id_client</th>\n",
       "      <th>flag_coll</th>\n",
       "      <th>amt_credit</th>\n",
       "      <th>bki</th>\n",
       "      <th>age</th>\n",
       "      <th>is_educ</th>\n",
       "      <th>cl_segm</th>\n",
       "      <th>credit_type</th>\n",
       "      <th>fssp</th>\n",
       "      <th>cnt_closed_contract</th>\n",
       "      <th>is_cellphone</th>\n",
       "    </tr>\n",
       "  </thead>\n",
       "  <tbody>\n",
       "    <tr>\n",
       "      <th>0</th>\n",
       "      <td>1000001</td>\n",
       "      <td>1.0</td>\n",
       "      <td>225000.0</td>\n",
       "      <td>26395.0</td>\n",
       "      <td>68.0</td>\n",
       "      <td>0.0</td>\n",
       "      <td>2.0</td>\n",
       "      <td>CC</td>\n",
       "      <td>0.0</td>\n",
       "      <td>0.0</td>\n",
       "      <td>0.0</td>\n",
       "    </tr>\n",
       "    <tr>\n",
       "      <th>1</th>\n",
       "      <td>1000002</td>\n",
       "      <td>0.0</td>\n",
       "      <td>75000.0</td>\n",
       "      <td>89146.0</td>\n",
       "      <td>69.0</td>\n",
       "      <td>1.0</td>\n",
       "      <td>2.0</td>\n",
       "      <td>POS</td>\n",
       "      <td>0.0</td>\n",
       "      <td>1.0</td>\n",
       "      <td>1.0</td>\n",
       "    </tr>\n",
       "    <tr>\n",
       "      <th>2</th>\n",
       "      <td>1000003</td>\n",
       "      <td>0.0</td>\n",
       "      <td>10000.0</td>\n",
       "      <td>35635.0</td>\n",
       "      <td>56.0</td>\n",
       "      <td>1.0</td>\n",
       "      <td>3.0</td>\n",
       "      <td>CC</td>\n",
       "      <td>0.0</td>\n",
       "      <td>0.0</td>\n",
       "      <td>1.0</td>\n",
       "    </tr>\n",
       "    <tr>\n",
       "      <th>3</th>\n",
       "      <td>1000004</td>\n",
       "      <td>0.0</td>\n",
       "      <td>400000.0</td>\n",
       "      <td>60715.0</td>\n",
       "      <td>36.0</td>\n",
       "      <td>1.0</td>\n",
       "      <td>2.0</td>\n",
       "      <td>POS</td>\n",
       "      <td>0.0</td>\n",
       "      <td>0.0</td>\n",
       "      <td>0.0</td>\n",
       "    </tr>\n",
       "    <tr>\n",
       "      <th>4</th>\n",
       "      <td>1000005</td>\n",
       "      <td>1.0</td>\n",
       "      <td>175000.0</td>\n",
       "      <td>38110.0</td>\n",
       "      <td>48.0</td>\n",
       "      <td>0.0</td>\n",
       "      <td>2.0</td>\n",
       "      <td>POS</td>\n",
       "      <td>0.0</td>\n",
       "      <td>1.0</td>\n",
       "      <td>1.0</td>\n",
       "    </tr>\n",
       "    <tr>\n",
       "      <th>...</th>\n",
       "      <td>...</td>\n",
       "      <td>...</td>\n",
       "      <td>...</td>\n",
       "      <td>...</td>\n",
       "      <td>...</td>\n",
       "      <td>...</td>\n",
       "      <td>...</td>\n",
       "      <td>...</td>\n",
       "      <td>...</td>\n",
       "      <td>...</td>\n",
       "      <td>...</td>\n",
       "    </tr>\n",
       "    <tr>\n",
       "      <th>9563</th>\n",
       "      <td>1009564</td>\n",
       "      <td>NaN</td>\n",
       "      <td>NaN</td>\n",
       "      <td>NaN</td>\n",
       "      <td>NaN</td>\n",
       "      <td>NaN</td>\n",
       "      <td>NaN</td>\n",
       "      <td>NaN</td>\n",
       "      <td>NaN</td>\n",
       "      <td>NaN</td>\n",
       "      <td>NaN</td>\n",
       "    </tr>\n",
       "    <tr>\n",
       "      <th>9564</th>\n",
       "      <td>1009565</td>\n",
       "      <td>NaN</td>\n",
       "      <td>NaN</td>\n",
       "      <td>NaN</td>\n",
       "      <td>NaN</td>\n",
       "      <td>NaN</td>\n",
       "      <td>NaN</td>\n",
       "      <td>NaN</td>\n",
       "      <td>NaN</td>\n",
       "      <td>NaN</td>\n",
       "      <td>NaN</td>\n",
       "    </tr>\n",
       "    <tr>\n",
       "      <th>9565</th>\n",
       "      <td>1009566</td>\n",
       "      <td>NaN</td>\n",
       "      <td>NaN</td>\n",
       "      <td>NaN</td>\n",
       "      <td>NaN</td>\n",
       "      <td>NaN</td>\n",
       "      <td>NaN</td>\n",
       "      <td>NaN</td>\n",
       "      <td>NaN</td>\n",
       "      <td>NaN</td>\n",
       "      <td>NaN</td>\n",
       "    </tr>\n",
       "    <tr>\n",
       "      <th>9566</th>\n",
       "      <td>1009567</td>\n",
       "      <td>NaN</td>\n",
       "      <td>NaN</td>\n",
       "      <td>NaN</td>\n",
       "      <td>NaN</td>\n",
       "      <td>NaN</td>\n",
       "      <td>NaN</td>\n",
       "      <td>NaN</td>\n",
       "      <td>NaN</td>\n",
       "      <td>NaN</td>\n",
       "      <td>NaN</td>\n",
       "    </tr>\n",
       "    <tr>\n",
       "      <th>9567</th>\n",
       "      <td>1009568</td>\n",
       "      <td>NaN</td>\n",
       "      <td>NaN</td>\n",
       "      <td>NaN</td>\n",
       "      <td>NaN</td>\n",
       "      <td>NaN</td>\n",
       "      <td>NaN</td>\n",
       "      <td>NaN</td>\n",
       "      <td>NaN</td>\n",
       "      <td>NaN</td>\n",
       "      <td>NaN</td>\n",
       "    </tr>\n",
       "  </tbody>\n",
       "</table>\n",
       "<p>9568 rows × 11 columns</p>\n",
       "</div>"
      ],
      "text/plain": [
       "      id_client  flag_coll  amt_credit      bki   age  is_educ  cl_segm  \\\n",
       "0       1000001        1.0    225000.0  26395.0  68.0      0.0      2.0   \n",
       "1       1000002        0.0     75000.0  89146.0  69.0      1.0      2.0   \n",
       "2       1000003        0.0     10000.0  35635.0  56.0      1.0      3.0   \n",
       "3       1000004        0.0    400000.0  60715.0  36.0      1.0      2.0   \n",
       "4       1000005        1.0    175000.0  38110.0  48.0      0.0      2.0   \n",
       "...         ...        ...         ...      ...   ...      ...      ...   \n",
       "9563    1009564        NaN         NaN      NaN   NaN      NaN      NaN   \n",
       "9564    1009565        NaN         NaN      NaN   NaN      NaN      NaN   \n",
       "9565    1009566        NaN         NaN      NaN   NaN      NaN      NaN   \n",
       "9566    1009567        NaN         NaN      NaN   NaN      NaN      NaN   \n",
       "9567    1009568        NaN         NaN      NaN   NaN      NaN      NaN   \n",
       "\n",
       "     credit_type  fssp  cnt_closed_contract  is_cellphone  \n",
       "0             CC   0.0                  0.0           0.0  \n",
       "1            POS   0.0                  1.0           1.0  \n",
       "2             CC   0.0                  0.0           1.0  \n",
       "3            POS   0.0                  0.0           0.0  \n",
       "4            POS   0.0                  1.0           1.0  \n",
       "...          ...   ...                  ...           ...  \n",
       "9563         NaN   NaN                  NaN           NaN  \n",
       "9564         NaN   NaN                  NaN           NaN  \n",
       "9565         NaN   NaN                  NaN           NaN  \n",
       "9566         NaN   NaN                  NaN           NaN  \n",
       "9567         NaN   NaN                  NaN           NaN  \n",
       "\n",
       "[9568 rows x 11 columns]"
      ]
     },
     "execution_count": 2,
     "metadata": {},
     "output_type": "execute_result"
    }
   ],
   "source": [
    "banks_df = pd.read_csv('Датасет банки.csv', sep = ';')\n",
    "banks_df"
   ]
  },
  {
   "cell_type": "markdown",
   "id": "9a20a10b",
   "metadata": {},
   "source": [
    "Проверяем на наличие странных значений"
   ]
  },
  {
   "cell_type": "code",
   "execution_count": 3,
   "id": "69fc9b45",
   "metadata": {},
   "outputs": [
    {
     "data": {
      "text/plain": [
       "0.0    5692\n",
       "1.0    3702\n",
       "Name: flag_coll, dtype: int64"
      ]
     },
     "execution_count": 3,
     "metadata": {},
     "output_type": "execute_result"
    }
   ],
   "source": [
    "banks_df['flag_coll'].value_counts() #обнаружились значения -1 и -2\n",
    "banks_df.drop(banks_df[banks_df['flag_coll'] < 0].index, inplace = True)\n",
    "banks_df['flag_coll'].value_counts()"
   ]
  },
  {
   "cell_type": "code",
   "execution_count": 4,
   "id": "c56dfe1a",
   "metadata": {},
   "outputs": [
    {
     "name": "stdout",
     "output_type": "stream",
     "text": [
      "<class 'pandas.core.frame.DataFrame'>\n",
      "Int64Index: 9356 entries, 0 to 9360\n",
      "Data columns (total 11 columns):\n",
      " #   Column               Non-Null Count  Dtype  \n",
      "---  ------               --------------  -----  \n",
      " 0   id_client            9356 non-null   int64  \n",
      " 1   flag_coll            9356 non-null   float64\n",
      " 2   amt_credit           9356 non-null   float64\n",
      " 3   bki                  9356 non-null   float64\n",
      " 4   age                  9356 non-null   float64\n",
      " 5   is_educ              9356 non-null   float64\n",
      " 6   cl_segm              9356 non-null   float64\n",
      " 7   credit_type          9356 non-null   object \n",
      " 8   fssp                 9356 non-null   float64\n",
      " 9   cnt_closed_contract  9356 non-null   float64\n",
      " 10  is_cellphone         9356 non-null   float64\n",
      "dtypes: float64(9), int64(1), object(1)\n",
      "memory usage: 877.1+ KB\n"
     ]
    }
   ],
   "source": [
    "banks_df['flag_coll'].isna().sum() #есть пропущенные данные в flag coll\n",
    "banks_df.dropna(inplace = True) #удалим пропущенные данные сразу из всех строк\n",
    "banks_df.info(5)"
   ]
  },
  {
   "cell_type": "markdown",
   "id": "93233b6f",
   "metadata": {},
   "source": [
    "Смотрим графики признаков"
   ]
  },
  {
   "cell_type": "code",
   "execution_count": 5,
   "id": "1fc64ffb",
   "metadata": {},
   "outputs": [],
   "source": [
    "banks_df['paid_in_time'] = 1 - banks_df['flag_coll']"
   ]
  },
  {
   "cell_type": "code",
   "execution_count": 6,
   "id": "0d2f03f6",
   "metadata": {},
   "outputs": [
    {
     "data": {
      "text/plain": [
       "<AxesSubplot:xlabel='amt_credit'>"
      ]
     },
     "execution_count": 6,
     "metadata": {},
     "output_type": "execute_result"
    },
    {
     "data": {
      "image/png": "[encoded data removed]",
      "text/plain": [
       "<Figure size 720x360 with 1 Axes>"
      ]
     },
     "metadata": {
      "needs_background": "light"
     },
     "output_type": "display_data"
    }
   ],
   "source": [
    "banks_df.groupby('amt_credit').agg('mean')[['flag_coll', 'paid_in_time']].plot(kind='bar',\n",
    "                                                           figsize=(10, 5),\n",
    "                                                           stacked=True)\n",
    "#важный признак!"
   ]
  },
  {
   "cell_type": "code",
   "execution_count": 7,
   "id": "c59f9417",
   "metadata": {},
   "outputs": [
    {
     "data": {
      "text/plain": [
       "<AxesSubplot:xlabel='bki'>"
      ]
     },
     "execution_count": 7,
     "metadata": {},
     "output_type": "execute_result"
    },
    {
     "data": {
      "image/png": "[encoded data removed]",
      "text/plain": [
       "<Figure size 360x360 with 1 Axes>"
      ]
     },
     "metadata": {
      "needs_background": "light"
     },
     "output_type": "display_data"
    }
   ],
   "source": [
    "banks_df.groupby(banks_df['bki'] // 10_000).agg('mean')[['flag_coll', 'paid_in_time']].plot(kind='bar',\n",
    "                                                           figsize=(5, 5),\n",
    "                                                           stacked=True)"
   ]
  },
  {
   "cell_type": "code",
   "execution_count": 8,
   "id": "1b7d3663",
   "metadata": {},
   "outputs": [
    {
     "data": {
      "text/plain": [
       "<AxesSubplot:xlabel='age'>"
      ]
     },
     "execution_count": 8,
     "metadata": {},
     "output_type": "execute_result"
    },
    {
     "data": {
      "image/png": "[encoded data removed]",
      "text/plain": [
       "<Figure size 720x360 with 1 Axes>"
      ]
     },
     "metadata": {
      "needs_background": "light"
     },
     "output_type": "display_data"
    }
   ],
   "source": [
    "banks_df.groupby('age').agg('mean')[['flag_coll', 'paid_in_time']].plot(kind='bar',\n",
    "                                                           figsize=(10, 5),\n",
    "                                                           stacked=True)"
   ]
  },
  {
   "cell_type": "code",
   "execution_count": 9,
   "id": "064867b5",
   "metadata": {},
   "outputs": [
    {
     "data": {
      "text/plain": [
       "<AxesSubplot:xlabel='is_educ'>"
      ]
     },
     "execution_count": 9,
     "metadata": {},
     "output_type": "execute_result"
    },
    {
     "data": {
      "image/png": "[encoded data removed]",
      "text/plain": [
       "<Figure size 720x360 with 1 Axes>"
      ]
     },
     "metadata": {
      "needs_background": "light"
     },
     "output_type": "display_data"
    }
   ],
   "source": [
    "banks_df.groupby('is_educ').agg('mean')[['flag_coll', 'paid_in_time']].plot(kind='bar',\n",
    "                                                           figsize=(10, 5),\n",
    "                                                           stacked=True)"
   ]
  },
  {
   "cell_type": "code",
   "execution_count": 10,
   "id": "c6c70c17",
   "metadata": {},
   "outputs": [
    {
     "data": {
      "text/plain": [
       "<AxesSubplot:xlabel='cl_segm'>"
      ]
     },
     "execution_count": 10,
     "metadata": {},
     "output_type": "execute_result"
    },
    {
     "data": {
      "image/png": "[encoded data removed]",
      "text/plain": [
       "<Figure size 720x360 with 1 Axes>"
      ]
     },
     "metadata": {
      "needs_background": "light"
     },
     "output_type": "display_data"
    }
   ],
   "source": [
    "banks_df.groupby('cl_segm').agg('mean')[['flag_coll', 'paid_in_time']].plot(kind='bar',\n",
    "                                                           figsize=(10, 5),\n",
    "                                                           stacked=True)"
   ]
  },
  {
   "cell_type": "code",
   "execution_count": 11,
   "id": "3aecfdba",
   "metadata": {},
   "outputs": [
    {
     "data": {
      "text/plain": [
       "<AxesSubplot:xlabel='credit_type'>"
      ]
     },
     "execution_count": 11,
     "metadata": {},
     "output_type": "execute_result"
    },
    {
     "data": {
      "image/png": "[encoded data removed]",
      "text/plain": [
       "<Figure size 720x360 with 1 Axes>"
      ]
     },
     "metadata": {
      "needs_background": "light"
     },
     "output_type": "display_data"
    }
   ],
   "source": [
    "banks_df.groupby('credit_type').agg('mean')[['flag_coll', 'paid_in_time']].plot(kind='bar',\n",
    "                                                           figsize=(10, 5),\n",
    "                                                           stacked=True)"
   ]
  },
  {
   "cell_type": "code",
   "execution_count": 12,
   "id": "a0603dc5",
   "metadata": {},
   "outputs": [
    {
     "data": {
      "text/plain": [
       "<AxesSubplot:xlabel='cnt_closed_contract'>"
      ]
     },
     "execution_count": 12,
     "metadata": {},
     "output_type": "execute_result"
    },
    {
     "data": {
      "image/png": "[encoded data removed]",
      "text/plain": [
       "<Figure size 720x360 with 1 Axes>"
      ]
     },
     "metadata": {
      "needs_background": "light"
     },
     "output_type": "display_data"
    }
   ],
   "source": [
    "banks_df.groupby('cnt_closed_contract').agg('mean')[['flag_coll', 'paid_in_time']].plot(kind='bar',\n",
    "                                                           figsize=(10, 5),\n",
    "                                                           stacked=True)"
   ]
  },
  {
   "cell_type": "code",
   "execution_count": 13,
   "id": "e896f42f",
   "metadata": {},
   "outputs": [
    {
     "data": {
      "text/plain": [
       "<AxesSubplot:xlabel='is_cellphone'>"
      ]
     },
     "execution_count": 13,
     "metadata": {},
     "output_type": "execute_result"
    },
    {
     "data": {
      "image/png": "[encoded data removed]",
      "text/plain": [
       "<Figure size 720x360 with 1 Axes>"
      ]
     },
     "metadata": {
      "needs_background": "light"
     },
     "output_type": "display_data"
    }
   ],
   "source": [
    "banks_df.groupby('is_cellphone').agg('mean')[['flag_coll', 'paid_in_time']].plot(kind='bar',\n",
    "                                                           figsize=(10, 5),\n",
    "                                                           stacked=True)"
   ]
  },
  {
   "cell_type": "code",
   "execution_count": 14,
   "id": "53f89bc1",
   "metadata": {},
   "outputs": [
    {
     "data": {
      "text/plain": [
       "<AxesSubplot:xlabel='fssp'>"
      ]
     },
     "execution_count": 14,
     "metadata": {},
     "output_type": "execute_result"
    },
    {
     "data": {
      "image/png": "[encoded data removed]",
      "text/plain": [
       "<Figure size 720x360 with 1 Axes>"
      ]
     },
     "metadata": {
      "needs_background": "light"
     },
     "output_type": "display_data"
    }
   ],
   "source": [
    "banks_df.groupby(banks_df['fssp'] // 10_000).agg('mean')[['flag_coll', 'paid_in_time']].plot(kind='bar',\n",
    "                                                           figsize=(10, 5),\n",
    "                                                           stacked=True)"
   ]
  },
  {
   "cell_type": "code",
   "execution_count": 15,
   "id": "3c12204f",
   "metadata": {},
   "outputs": [
    {
     "data": {
      "text/plain": [
       "POS    6082\n",
       "CC     3274\n",
       "Name: credit_type, dtype: int64"
      ]
     },
     "execution_count": 15,
     "metadata": {},
     "output_type": "execute_result"
    }
   ],
   "source": [
    "banks_df['credit_type'].value_counts()"
   ]
  },
  {
   "cell_type": "code",
   "execution_count": 16,
   "id": "87e655f6",
   "metadata": {},
   "outputs": [
    {
     "data": {
      "text/html": [
       "<div>\n",
       "<style scoped>\n",
       "    .dataframe tbody tr th:only-of-type {\n",
       "        vertical-align: middle;\n",
       "    }\n",
       "\n",
       "    .dataframe tbody tr th {\n",
       "        vertical-align: top;\n",
       "    }\n",
       "\n",
       "    .dataframe thead th {\n",
       "        text-align: right;\n",
       "    }\n",
       "</style>\n",
       "<table border=\"1\" class=\"dataframe\">\n",
       "  <thead>\n",
       "    <tr style=\"text-align: right;\">\n",
       "      <th></th>\n",
       "      <th>id_client</th>\n",
       "      <th>flag_coll</th>\n",
       "      <th>amt_credit</th>\n",
       "      <th>bki</th>\n",
       "      <th>age</th>\n",
       "      <th>is_educ</th>\n",
       "      <th>cl_segm</th>\n",
       "      <th>credit_type</th>\n",
       "      <th>fssp</th>\n",
       "      <th>cnt_closed_contract</th>\n",
       "      <th>is_cellphone</th>\n",
       "      <th>paid_in_time</th>\n",
       "    </tr>\n",
       "  </thead>\n",
       "  <tbody>\n",
       "    <tr>\n",
       "      <th>0</th>\n",
       "      <td>1000001</td>\n",
       "      <td>1.0</td>\n",
       "      <td>225000.0</td>\n",
       "      <td>26395.0</td>\n",
       "      <td>68.0</td>\n",
       "      <td>0.0</td>\n",
       "      <td>2.0</td>\n",
       "      <td>1</td>\n",
       "      <td>0.0</td>\n",
       "      <td>0.0</td>\n",
       "      <td>0.0</td>\n",
       "      <td>0.0</td>\n",
       "    </tr>\n",
       "    <tr>\n",
       "      <th>1</th>\n",
       "      <td>1000002</td>\n",
       "      <td>0.0</td>\n",
       "      <td>75000.0</td>\n",
       "      <td>89146.0</td>\n",
       "      <td>69.0</td>\n",
       "      <td>1.0</td>\n",
       "      <td>2.0</td>\n",
       "      <td>0</td>\n",
       "      <td>0.0</td>\n",
       "      <td>1.0</td>\n",
       "      <td>1.0</td>\n",
       "      <td>1.0</td>\n",
       "    </tr>\n",
       "    <tr>\n",
       "      <th>2</th>\n",
       "      <td>1000003</td>\n",
       "      <td>0.0</td>\n",
       "      <td>10000.0</td>\n",
       "      <td>35635.0</td>\n",
       "      <td>56.0</td>\n",
       "      <td>1.0</td>\n",
       "      <td>3.0</td>\n",
       "      <td>1</td>\n",
       "      <td>0.0</td>\n",
       "      <td>0.0</td>\n",
       "      <td>1.0</td>\n",
       "      <td>1.0</td>\n",
       "    </tr>\n",
       "    <tr>\n",
       "      <th>3</th>\n",
       "      <td>1000004</td>\n",
       "      <td>0.0</td>\n",
       "      <td>400000.0</td>\n",
       "      <td>60715.0</td>\n",
       "      <td>36.0</td>\n",
       "      <td>1.0</td>\n",
       "      <td>2.0</td>\n",
       "      <td>0</td>\n",
       "      <td>0.0</td>\n",
       "      <td>0.0</td>\n",
       "      <td>0.0</td>\n",
       "      <td>1.0</td>\n",
       "    </tr>\n",
       "    <tr>\n",
       "      <th>4</th>\n",
       "      <td>1000005</td>\n",
       "      <td>1.0</td>\n",
       "      <td>175000.0</td>\n",
       "      <td>38110.0</td>\n",
       "      <td>48.0</td>\n",
       "      <td>0.0</td>\n",
       "      <td>2.0</td>\n",
       "      <td>0</td>\n",
       "      <td>0.0</td>\n",
       "      <td>1.0</td>\n",
       "      <td>1.0</td>\n",
       "      <td>0.0</td>\n",
       "    </tr>\n",
       "  </tbody>\n",
       "</table>\n",
       "</div>"
      ],
      "text/plain": [
       "   id_client  flag_coll  amt_credit      bki   age  is_educ  cl_segm  \\\n",
       "0    1000001        1.0    225000.0  26395.0  68.0      0.0      2.0   \n",
       "1    1000002        0.0     75000.0  89146.0  69.0      1.0      2.0   \n",
       "2    1000003        0.0     10000.0  35635.0  56.0      1.0      3.0   \n",
       "3    1000004        0.0    400000.0  60715.0  36.0      1.0      2.0   \n",
       "4    1000005        1.0    175000.0  38110.0  48.0      0.0      2.0   \n",
       "\n",
       "  credit_type  fssp  cnt_closed_contract  is_cellphone  paid_in_time  \n",
       "0           1   0.0                  0.0           0.0           0.0  \n",
       "1           0   0.0                  1.0           1.0           1.0  \n",
       "2           1   0.0                  0.0           1.0           1.0  \n",
       "3           0   0.0                  0.0           0.0           1.0  \n",
       "4           0   0.0                  1.0           1.0           0.0  "
      ]
     },
     "execution_count": 16,
     "metadata": {},
     "output_type": "execute_result"
    }
   ],
   "source": [
    "banks_df.credit_type = banks_df.credit_type.map({'POS':0, 'CC':1, 'nan':'NaN'})\n",
    "banks_df.head()"
   ]
  },
  {
   "cell_type": "markdown",
   "id": "2265bc45",
   "metadata": {},
   "source": [
    "Делим на тест и контроль"
   ]
  },
  {
   "cell_type": "code",
   "execution_count": 17,
   "id": "a4a4f3d4",
   "metadata": {},
   "outputs": [],
   "source": [
    "#делим на тест и контроль\n",
    "X_train, X_test, y_train, y_test = train_test_split(\n",
    "    banks_df.drop(['flag_coll', 'paid_in_time'], axis=1),\n",
    "    banks_df.flag_coll,\n",
    "    test_size= 0.2,\n",
    "    train_size = 0.8,\n",
    "    random_state=0,\n",
    "    stratify=banks_df.flag_coll\n",
    ")"
   ]
  },
  {
   "cell_type": "code",
   "execution_count": 18,
   "id": "6201bc7d",
   "metadata": {},
   "outputs": [
    {
     "data": {
      "text/plain": [
       "DecisionTreeClassifier()"
      ]
     },
     "execution_count": 18,
     "metadata": {},
     "output_type": "execute_result"
    }
   ],
   "source": [
    "#фитим модель\n",
    "tree = DecisionTreeClassifier()\n",
    "tree.fit(X_train, y_train)"
   ]
  },
  {
   "cell_type": "code",
   "execution_count": 19,
   "id": "48db6f2e",
   "metadata": {},
   "outputs": [],
   "source": [
    "#предсказывает значение таргета в тесте\n",
    "y_pred = tree.predict(X_test)"
   ]
  },
  {
   "cell_type": "code",
   "execution_count": 20,
   "id": "81f33c92",
   "metadata": {},
   "outputs": [
    {
     "name": "stdout",
     "output_type": "stream",
     "text": [
      "0.6511752136752137\n"
     ]
    }
   ],
   "source": [
    "#смотрим точность предсказания таргета с тесте\n",
    "acc = accuracy_score(y_test,y_pred)\n",
    "print(acc)"
   ]
  },
  {
   "cell_type": "code",
   "execution_count": 21,
   "id": "5cf3f3ad",
   "metadata": {
    "scrolled": true
   },
   "outputs": [
    {
     "data": {
      "text/plain": [
       "array([[813, 321],\n",
       "       [332, 406]], dtype=int64)"
      ]
     },
     "execution_count": 21,
     "metadata": {},
     "output_type": "execute_result"
    }
   ],
   "source": [
    "cm=confusion_matrix(y_test, y_pred)\n",
    "cm"
   ]
  },
  {
   "cell_type": "markdown",
   "id": "be731109",
   "metadata": {},
   "source": [
    "Посмотрим, как изменяется accuracy в зависимости от размера тестовой и тренинговой выборки"
   ]
  },
  {
   "cell_type": "code",
   "execution_count": 22,
   "id": "01c6ef57",
   "metadata": {},
   "outputs": [],
   "source": [
    "acc_list = []\n",
    "for i in range(1, 10):\n",
    "    X_train, X_test, y_train, y_test = train_test_split(\n",
    "    banks_df.drop(['flag_coll', 'paid_in_time'], axis=1),\n",
    "    banks_df.flag_coll,\n",
    "    test_size= i * 0.1,\n",
    "    random_state=0,\n",
    "    stratify=banks_df.flag_coll\n",
    ")\n",
    "    tree = DecisionTreeClassifier()\n",
    "    tree.fit(X_train, y_train)\n",
    "    y_pred = tree.predict(X_test)\n",
    "    acc = accuracy_score(y_test,y_pred)\n",
    "    acc_list.append(acc)"
   ]
  },
  {
   "cell_type": "code",
   "execution_count": 23,
   "id": "9993b9b9",
   "metadata": {},
   "outputs": [
    {
     "data": {
      "text/plain": [
       "[0.6399572649572649,\n",
       " 0.6485042735042735,\n",
       " 0.6465977912361952,\n",
       " 0.644402885386054,\n",
       " 0.6325352714835399,\n",
       " 0.6416102600641254,\n",
       " 0.6370992366412214,\n",
       " 0.6408817635270541,\n",
       " 0.6196413727585798]"
      ]
     },
     "execution_count": 23,
     "metadata": {},
     "output_type": "execute_result"
    }
   ],
   "source": [
    "acc_list"
   ]
  },
  {
   "cell_type": "code",
   "execution_count": 24,
   "id": "02bf625c",
   "metadata": {},
   "outputs": [
    {
     "data": {
      "text/plain": [
       "Text(0, 0.5, 'Точность модели')"
      ]
     },
     "execution_count": 24,
     "metadata": {},
     "output_type": "execute_result"
    },
    {
     "data": {
      "image/png": "[encoded data removed]",
      "text/plain": [
       "<Figure size 720x720 with 1 Axes>"
      ]
     },
     "metadata": {
      "needs_background": "light"
     },
     "output_type": "display_data"
    }
   ],
   "source": [
    "plt.figure(figsize = [10, 10])\n",
    "plt.plot([0.1, 0.2, 0.3, 0.4, 0.5, 0.6, 0.7, 0.8, 0.9], acc_list)\n",
    "plt.title('Зависимость точности модели от размера тестовой и тренинговой выборки')\n",
    "plt.xlabel('Размер тестовой выборки')\n",
    "plt.ylabel('Точность модели')"
   ]
  },
  {
   "cell_type": "code",
   "execution_count": 25,
   "id": "c9664203",
   "metadata": {},
   "outputs": [
    {
     "data": {
      "text/plain": [
       "<AxesSubplot:>"
      ]
     },
     "execution_count": 25,
     "metadata": {},
     "output_type": "execute_result"
    },
    {
     "data": {
      "image/png": "[encoded data removed]",
      "text/plain": [
       "<Figure size 432x288 with 2 Axes>"
      ]
     },
     "metadata": {
      "needs_background": "light"
     },
     "output_type": "display_data"
    }
   ],
   "source": [
    "sns.heatmap(cm, annot = True, fmt='.1f')"
   ]
  }
 ],
 "metadata": {
  "kernelspec": {
   "display_name": "Python 3 (ipykernel)",
   "language": "python",
   "name": "python3"
  },
  "language_info": {
   "codemirror_mode": {
    "name": "ipython",
    "version": 3
   },
   "file_extension": ".py",
   "mimetype": "text/x-python",
   "name": "python",
   "nbconvert_exporter": "python",
   "pygments_lexer": "ipython3",
   "version": "3.9.7"
  }
 },
 "nbformat": 4,
 "nbformat_minor": 5
}
